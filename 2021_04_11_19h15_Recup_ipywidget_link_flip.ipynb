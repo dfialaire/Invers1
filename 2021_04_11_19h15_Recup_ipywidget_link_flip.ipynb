{
 "cells": [
  {
   "cell_type": "code",
   "execution_count": 2,
   "id": "e2475c0f",
   "metadata": {},
   "outputs": [
    {
     "data": {
      "application/vnd.jupyter.widget-view+json": {
       "model_id": "d896bc6a333c455c94cfa372ce2a4fd0",
       "version_major": 2,
       "version_minor": 0
      },
      "text/plain": [
       "Image(value=b'\\x89PNG\\r\\n\\x1a\\n\\x00\\x00\\x00\\rIHDR\\x00\\x00\\x01\\xa8\\x00\\x00\\x00\\xf0\\x08\\x02\\x00\\x00\\x00\\xdazg\\xb…"
      ]
     },
     "metadata": {},
     "output_type": "display_data"
    },
    {
     "name": "stdout",
     "output_type": "stream",
     "text": [
      "<class 'bytes'>\n",
      "<class 'ipywidgets.widgets.widget_media.Image'>\n"
     ]
    },
    {
     "data": {
      "application/vnd.jupyter.widget-view+json": {
       "model_id": "abb229d79c344130aee76d84720d434b",
       "version_major": 2,
       "version_minor": 0
      },
      "text/plain": [
       "IntSlider(value=1, description='Slider', max=5, min=-5)"
      ]
     },
     "metadata": {},
     "output_type": "display_data"
    }
   ],
   "source": [
    "import cv2\n",
    "import io\n",
    "import PIL.Image\n",
    "from ipywidgets import Image, VBox, HBox, Widget, Button\n",
    "import ipywidgets as widgets\n",
    "##########\n",
    "def compress_to_bytes(data, fmt):\n",
    "    \"\"\"\n",
    "    Helper function to compress image data via PIL/Pillow.\n",
    "    \"\"\"\n",
    "    buff = io.BytesIO()\n",
    "    img = PIL.Image.fromarray(data)    \n",
    "    img.save(buff, format=fmt)\n",
    "    return buff.getvalue()\n",
    "##########\n",
    "############################################\n",
    "img = cv2.imread(\"record3.png\", cv2.IMREAD_COLOR)\n",
    "img_rgb = cv2.cvtColor(img, cv2.COLOR_BGR2RGB)\n",
    "# yo=type(img_rgb)\n",
    "# print(\"type img_rgb = \",yo)\n",
    "    #################################\n",
    "fmt = 'png'\n",
    "data_comp = compress_to_bytes(img_rgb, fmt)\n",
    "print(type(data_comp))\n",
    "image_headline = widgets.Image(value=data_comp,format='jpg',width='200')\n",
    "print(type(image_headline))\n",
    "###############################################\n",
    "# caption = widgets.Label(value='The values of range1 and range2 are synchronized')\n",
    "slider = widgets.IntSlider(min=-5, max=5, value=1, description='Slider')\n",
    "\n",
    "def handle_slider_change(change):\n",
    "#     caption.value = 'The slider value is ' + ('negative' if change.new < 0 else 'nonnegative')\n",
    "    if change.new<0:\n",
    "        img = cv2.imread(\"record3.png\", cv2.IMREAD_COLOR)\n",
    "        img_rgb = cv2.cvtColor(img, cv2.COLOR_BGR2RGB)\n",
    "            #################################\n",
    "        img_rgb = cv2.flip(img_rgb, 0)\n",
    "        fmt = 'png'\n",
    "        data_comp = compress_to_bytes(img_rgb, fmt)\n",
    "        image_headline.value = data_comp\n",
    "    else:\n",
    "        img = cv2.imread(\"record3.png\", cv2.IMREAD_COLOR)\n",
    "        img_rgb = cv2.cvtColor(img, cv2.COLOR_BGR2RGB)\n",
    "            #################################\n",
    "        fmt = 'png'\n",
    "        data_comp = compress_to_bytes(img_rgb, fmt)\n",
    "        image_headline.value = data_comp   \n",
    "\n",
    "slider.observe(handle_slider_change, names='value')\n",
    "\n",
    "display(image_headline, slider)"
   ]
  },
  {
   "cell_type": "code",
   "execution_count": null,
   "id": "4335cd85",
   "metadata": {},
   "outputs": [],
   "source": []
  }
 ],
 "metadata": {
  "kernelspec": {
   "display_name": "Python 3",
   "language": "python",
   "name": "python3"
  },
  "language_info": {
   "codemirror_mode": {
    "name": "ipython",
    "version": 3
   },
   "file_extension": ".py",
   "mimetype": "text/x-python",
   "name": "python",
   "nbconvert_exporter": "python",
   "pygments_lexer": "ipython3",
   "version": "3.7.10"
  }
 },
 "nbformat": 4,
 "nbformat_minor": 5
}
